{
  "cells": [
    {
      "cell_type": "markdown",
      "id": "2038bde7",
      "metadata": {
        "id": "2038bde7"
      },
      "source": [
        "# Ex No. 2.a   Data Cleaning and Manipulation using NumPy\n",
        "\n",
        "Problem Statement: Clean the dataset and prepare it for analysis.\n",
        "Objective: To understand and apply data cleaning techniques using NumPy to ensure the dataset is suitable for analysis. This involves handling missing values, removing duplicates, and  normalizing the data.\n",
        "Scenario:\n",
        "You are a data scientist at a company that has recently collected data from a survey of employees. The dataset contains employee IDs, their salaries, and their years of experience. However, the data is incomplete and contains some inconsistencies. Your task is to clean this dataset to make it suitable for further analysis.\n",
        "Dataset: A sample dataset with three columns: emp_id, salary, and experience. The dataset includes some missing values and duplicates.\n",
        "Initial Dataset:\n",
        "Emp_ID\tSalary\tExperience\n",
        "101\t50000\t5\n",
        "102\t60000\t6\n",
        "103\tnan\t7\n",
        "104\t70000\t8\n",
        "105\t50000\t5\n",
        "106\t50000\tnan\n",
        "107\t80000\t10\n",
        "108\t60000\t6\n",
        "109\t75000\tnan\n",
        "101\t50000\t5\n",
        "\n",
        "Tasks to be Performed:\n",
        "\n",
        "1.\tLoad the dataset into a NumPy array.\n",
        "2.\tIdentify and handle missing values.\n",
        "3.\tRemove duplicate entries.\n",
        "4.\tNormalize or standardize the data using Min-Max Normalization.\n",
        "Hints:\n",
        "    1.\tRepresent nan as np.nan while converting data to np array\n",
        "   \n"
      ]
    },
    {
      "cell_type": "code",
      "execution_count": null,
      "id": "e291b269",
      "metadata": {
        "id": "e291b269",
        "outputId": "ff32daaa-3d6c-47a3-93e3-4e894b38e912",
        "colab": {
          "base_uri": "https://localhost:8080/"
        }
      },
      "outputs": [
        {
          "output_type": "stream",
          "name": "stdout",
          "text": [
            "[False False  True False False False False False False False]\n",
            "[False False False False False  True False False  True False]\n",
            "60555.555555555555\n",
            "6.5\n",
            "[50000. 60000. 70000. 75000. 80000.    nan]\n"
          ]
        }
      ],
      "source": [
        "import numpy as np\n",
        "data1 = np.array([101,102,103,104,105,106,107,108,109,101])\n",
        "data2 = np.array([50000,60000,np.nan,70000,50000,50000,80000,60000,75000,50000])\n",
        "data3 = np.array([5,6,7,8,5,np.nan,10,6,np.nan,5])\n",
        "print(np.isnan(data2))\n",
        "print(np.isnan(data3))\n",
        "print(np.nanmean(data2))\n",
        "print(np.nanmean(data3))\n",
        "print(np.unique(data2))"
      ]
    },
    {
      "cell_type": "code",
      "execution_count": null,
      "id": "249d72c7",
      "metadata": {
        "id": "249d72c7"
      },
      "outputs": [],
      "source": []
    }
  ],
  "metadata": {
    "kernelspec": {
      "display_name": "Python 3",
      "language": "python",
      "name": "python3"
    },
    "language_info": {
      "codemirror_mode": {
        "name": "ipython",
        "version": 3
      },
      "file_extension": ".py",
      "mimetype": "text/x-python",
      "name": "python",
      "nbconvert_exporter": "python",
      "pygments_lexer": "ipython3",
      "version": "3.8.8"
    },
    "colab": {
      "provenance": []
    }
  },
  "nbformat": 4,
  "nbformat_minor": 5
}