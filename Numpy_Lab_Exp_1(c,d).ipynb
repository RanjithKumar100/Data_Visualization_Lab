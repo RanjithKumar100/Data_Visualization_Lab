{
  "cells": [
    {
      "cell_type": "markdown",
      "id": "df45c9eb",
      "metadata": {
        "id": "df45c9eb"
      },
      "source": [
        "# Ex No 1.c: Universal Functions\n",
        "Aim:\n",
        "To explore the use of universal functions in NumPy for element-wise operations, including mathematical, statistical, and trigonometric functions.\n",
        "Scenario:\n",
        "You are working as a data scientist for a sports analytics company. You need to analyze the performance metrics of athletes in a decathlon event. The data includes various performance metrics such as running speeds, jump heights, and throw distances. You need to apply various universal functions to analyze and normalize this data.\n",
        "Sample Dataset:\n",
        "performance_data = {\n",
        "    'running_speed': [10.5, 9.8, 11.2, 10.0, 9.7],\n",
        "    'jump_height': [2.1, 2.3, 2.0, 2.4, 2.2],\n",
        "    'throw_distance': [60.5, 62.0, 59.8, 61.2, 63.5]\n",
        "}\n",
        "Task to be Performed:\n",
        "1.\tCreate a NumPy array for each performance metric.\n",
        "2.\tCalculate the square of the running speeds using a universal function.\n",
        "3.\tNormalize the jump heights by subtracting the mean and dividing by the standard deviation.\n",
        "4.\tApply the exponential function to the throw distances to model their growth.\n",
        "5.\tCalculate the logarithm of the normalized jump heights to explore the data distribution.\n",
        "6.\tApply the sine function to the running speeds to study their periodic behavior.\n"
      ]
    },
    {
      "cell_type": "code",
      "execution_count": null,
      "id": "3860d173",
      "metadata": {
        "id": "3860d173",
        "outputId": "8bf63ec0-1da8-4b34-f35b-fadf02348d10"
      },
      "outputs": [
        {
          "name": "stdout",
          "output_type": "stream",
          "text": [
            "RUNNING SPEED :  [10.5  9.8 11.2 10.   9.7]\n",
            "JUMP HEIGHT :  [2.1 2.3 2.  2.4 2.2]\n",
            "THROW DISTANCE :  [60.5 62.  59.8 61.2 63.5]\n",
            "Square of running speeds :  [1448.15468787  891.44377682 2352.53423103 1024.          831.74645387]\n",
            "Normalized Values :  [-21.  23. -10.  12.  inf]\n",
            "Exponential function :  [1.88285187e+26 8.43835667e+26 9.34996570e+25 3.79159806e+26\n",
            " 3.78180909e+27]\n",
            "Logarithm of the normalized jump heights :  [       nan 3.13549422        nan 2.48490665        inf]\n",
            "Sine Function :  [-0.87969576 -0.36647913 -0.97917773 -0.54402111 -0.27176063]\n"
          ]
        },
        {
          "name": "stderr",
          "output_type": "stream",
          "text": [
            "<ipython-input-18-7f53a1007ec9>:15: RuntimeWarning: divide by zero encountered in true_divide\n",
            "  nor = np.divide(jump_height,sub)\n",
            "<ipython-input-18-7f53a1007ec9>:20: RuntimeWarning: invalid value encountered in log\n",
            "  print(\"Logarithm of the normalized jump heights : \",np.log(nor))\n"
          ]
        }
      ],
      "source": [
        "#1.\n",
        "import numpy as np\n",
        "running_speed = np.array([10.5, 9.8, 11.2, 10.0, 9.7])\n",
        "print(\"RUNNING SPEED : \",running_speed)\n",
        "jump_height = np.array([2.1, 2.3, 2.0, 2.4, 2.2])\n",
        "print(\"JUMP HEIGHT : \",jump_height)\n",
        "throw_distance =np.array([60.5, 62.0, 59.8, 61.2, 63.5])\n",
        "print(\"THROW DISTANCE : \",throw_distance)\n",
        "#2.\n",
        "print(\"Square of running speeds : \",np.power(2,running_speed))\n",
        "#3.\n",
        "mean = np.mean(jump_height)\n",
        "std = np.std(jump_height)\n",
        "sub = np.subtract(jump_height,mean)\n",
        "nor = np.divide(jump_height,sub)\n",
        "print(\"Normalized Values : \",nor)\n",
        "#4.\n",
        "print(\"Exponential function : \",np.exp(throw_distance))\n",
        "#5.\n",
        "print(\"Logarithm of the normalized jump heights : \",np.log(nor))\n",
        "#6.\n",
        "print(\"Sine Function : \",np.sin(running_speed))"
      ]
    },
    {
      "cell_type": "markdown",
      "id": "2e6ac508",
      "metadata": {
        "id": "2e6ac508"
      },
      "source": [
        "# Ex No 1.d: Aggregate Functions\n",
        "\n",
        "Aim:\n",
        "To use aggregate functions in NumPy for summarizing and analyzing data.\n",
        "\n",
        "Scenario:\n",
        "You are a financial analyst examining the monthly returns of different investment portfolios. You need to calculate various aggregate statistics to understand the performance and risk associated with each portfolio.\n",
        "\n",
        "Sample Dataset:\n",
        "returns_data = {\n",
        "    'portfolio_A': [0.05, 0.02, 0.04, 0.03, 0.06, 0.01],\n",
        "    'portfolio_B': [0.04, 0.03, 0.05, 0.02, 0.01, 0.04],\n",
        "    'portfolio_C': [0.03, 0.01, 0.02, 0.03, 0.04, 0.05]\n",
        "}\n",
        "\n",
        "Task to be Performed:\n",
        "1.\tCreate a NumPy array for each portfolio's returns.\n",
        "2.\tCalculate the total return for each portfolio over the six months.\n",
        "3.\tCalculate the mean monthly return for each portfolio.\n",
        "4.\tFind the portfolio with the highest mean return.\n",
        "5.\tCalculate the overall average return across all portfolios.\n",
        "6.\tDetermine the variance and standard deviation of the returns for each portfolio to assess risk.\n"
      ]
    },
    {
      "cell_type": "code",
      "execution_count": null,
      "id": "fa72c906",
      "metadata": {
        "colab": {
          "base_uri": "https://localhost:8080/"
        },
        "id": "fa72c906",
        "outputId": "a090c145-c95a-4f96-b0a3-861820272015"
      },
      "outputs": [
        {
          "output_type": "stream",
          "name": "stdout",
          "text": [
            "[0.05 0.02 0.04 0.03 0.06 0.01]\n",
            "[0.04 0.03 0.05 0.02 0.01 0.04]\n",
            "[0.03 0.01 0.02 0.03 0.04 0.05]\n",
            "Total Return of A: 0.21000000000000002\n",
            "Total Return of B: 0.19000000000000003\n",
            "Total Return of C: 0.18\n",
            "Mean Return of A: 0.035\n",
            "Mean Return of B: 0.03166666666666667\n",
            "Mean Return of C: 0.03\n",
            "Highest Mean Return: 0.03\n",
            "Average return of all portfolios:  [0.1        0.05333333 0.09666667 0.06       0.08333333 0.06666667]\n",
            "Variance Return of A: 0.00029166666666666664\n",
            "Variance Return of B: 0.00018055555555555557\n",
            "variance Return of C: 0.00016666666666666666\n",
            "Standard Deviation Return of A: 0.01707825127659933\n",
            "Standard Deviation Return of B: 0.01343709624716425\n",
            "Standard Deviation Return of C: 0.012909944487358056\n"
          ]
        }
      ],
      "source": [
        "#1.\n",
        "import numpy as np\n",
        "portfolio_A = np.array([0.05, 0.02, 0.04, 0.03, 0.06, 0.01])\n",
        "portfolio_B = np.array([0.04, 0.03, 0.05, 0.02, 0.01, 0.04])\n",
        "portfolio_C = np.array([0.03, 0.01, 0.02, 0.03, 0.04, 0.05])\n",
        "print(portfolio_A)\n",
        "print(portfolio_B)\n",
        "print(portfolio_C)\n",
        "#2.\n",
        "print(\"Total Return of A:\",np.sum(portfolio_A))\n",
        "print(\"Total Return of B:\",np.sum(portfolio_B))\n",
        "print(\"Total Return of C:\",np.sum(portfolio_C))\n",
        "#3.\n",
        "print(\"Mean Return of A:\",np.mean(portfolio_A))\n",
        "print(\"Mean Return of B:\",np.mean(portfolio_B))\n",
        "print(\"Mean Return of C:\",np.mean(portfolio_C))\n",
        "#4.\n",
        "print(\"Highest Mean Return:\",np.mean(portfolio_C))\n",
        "#5.\n",
        "avg = portfolio_A + portfolio_B + portfolio_C/3\n",
        "print(\"Average return of all portfolios: \",avg)\n",
        "#6.\n",
        "print(\"Variance Return of A:\",np.var(portfolio_A))\n",
        "print(\"Variance Return of B:\",np.var(portfolio_B))\n",
        "print(\"variance Return of C:\",np.var(portfolio_C))\n",
        "print(\"Standard Deviation Return of A:\",np.std(portfolio_A))\n",
        "print(\"Standard Deviation Return of B:\",np.std(portfolio_B))\n",
        "print(\"Standard Deviation Return of C:\",np.std(portfolio_C))\n"
      ]
    },
    {
      "cell_type": "code",
      "execution_count": null,
      "id": "63668121",
      "metadata": {
        "id": "63668121"
      },
      "outputs": [],
      "source": []
    }
  ],
  "metadata": {
    "kernelspec": {
      "display_name": "Python 3",
      "language": "python",
      "name": "python3"
    },
    "language_info": {
      "codemirror_mode": {
        "name": "ipython",
        "version": 3
      },
      "file_extension": ".py",
      "mimetype": "text/x-python",
      "name": "python",
      "nbconvert_exporter": "python",
      "pygments_lexer": "ipython3",
      "version": "3.9.11"
    },
    "colab": {
      "provenance": []
    }
  },
  "nbformat": 4,
  "nbformat_minor": 5
}